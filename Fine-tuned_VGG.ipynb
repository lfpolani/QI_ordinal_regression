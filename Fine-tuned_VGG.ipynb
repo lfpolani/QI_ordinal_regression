{
 "cells": [
  {
   "cell_type": "code",
   "execution_count": 1,
   "metadata": {
    "collapsed": false
   },
   "outputs": [],
   "source": [
    "import sys\n",
    "import caffe\n",
    "import numpy as np\n",
    "from caffe.proto import caffe_pb2\n",
    "import cv2\n",
    "import pandas as pd\n",
    "\n",
    "caffe_root = './caffe/'  \n",
    "sys.path.insert(0, caffe_root + 'python')\n",
    "\n",
    "GPU_ID=0\n",
    "caffe.set_mode_gpu()\n",
    "caffe.set_device(GPU_ID)\n",
    "\n",
    "model_def = './Deployment_prototxt_files/Finetuned_VGG.prototxt'\n",
    "model_weights0 = './Models/Finetuned_VGG.caffemodel'\n",
    "\n",
    "net0 = caffe.Net(model_def,      # defines the structure of the model\n",
    "                model_weights0,  # contains the trained weights\n",
    "                caffe.TEST)     "
   ]
  },
  {
   "cell_type": "code",
   "execution_count": 2,
   "metadata": {
    "collapsed": true
   },
   "outputs": [],
   "source": [
    "df4_neutral = pd.DataFrame(columns=('Athlete', 'Ground truth (BMI)', 'Prediction'))\n",
    "Names=['LIM HYOJUN','DAVID GLEIRSCHER']\n",
    "BMI=[22.67, 26.87]\n",
    "\n",
    "for tra in range(2):\n",
    "            img_path_1='./Testing_images/'+str(tra)+'.jpg'\n",
    "            img1= cv2.imread(img_path_1, cv2.IMREAD_COLOR)\n",
    "            img1 = img1.transpose((2,0,1))\n",
    "            img1 = img1[None,:]\n",
    "            out = net0.forward_all(data = img1)\n",
    "            bla=out['prob'].argmax(axis=1)\n",
    "            df4_neutral.loc[tra]=[Names[tra], BMI[tra], bla]\n",
    "\n",
    "df4_neutral.loc[(df4_neutral['Prediction'] ==0),'Prediction'] = 'Underweight (16-18.5)'\n",
    "df4_neutral.loc[(df4_neutral['Prediction'] ==1),'Prediction'] = 'Normal (18.5-25)'\n",
    "df4_neutral.loc[(df4_neutral['Prediction'] ==2),'Prediction'] = 'Overweight (25-30)'\n",
    "df4_neutral.loc[(df4_neutral['Prediction'] ==3),'Prediction'] = 'Moderately obese (30-35)'\n",
    "df4_neutral.loc[(df4_neutral['Prediction'] ==4),'Prediction'] = 'Severely obese (35-40)'"
   ]
  },
  {
   "cell_type": "code",
   "execution_count": 3,
   "metadata": {
    "collapsed": false
   },
   "outputs": [
    {
     "data": {
      "text/html": [
       "<div>\n",
       "<table border=\"1\" class=\"dataframe\">\n",
       "  <thead>\n",
       "    <tr style=\"text-align: right;\">\n",
       "      <th></th>\n",
       "      <th>Athlete</th>\n",
       "      <th>Ground truth (BMI)</th>\n",
       "      <th>Prediction</th>\n",
       "    </tr>\n",
       "  </thead>\n",
       "  <tbody>\n",
       "    <tr>\n",
       "      <th>0</th>\n",
       "      <td>LIM HYOJUN</td>\n",
       "      <td>22.67</td>\n",
       "      <td>Normal (18.5-25)</td>\n",
       "    </tr>\n",
       "    <tr>\n",
       "      <th>1</th>\n",
       "      <td>DAVID GLEIRSCHER</td>\n",
       "      <td>26.87</td>\n",
       "      <td>Overweight (25-30)</td>\n",
       "    </tr>\n",
       "  </tbody>\n",
       "</table>\n",
       "</div>"
      ],
      "text/plain": [
       "            Athlete  Ground truth (BMI)          Prediction\n",
       "0        LIM HYOJUN               22.67    Normal (18.5-25)\n",
       "1  DAVID GLEIRSCHER               26.87  Overweight (25-30)"
      ]
     },
     "execution_count": 3,
     "metadata": {},
     "output_type": "execute_result"
    }
   ],
   "source": [
    "df4_neutral"
   ]
  }
 ],
 "metadata": {
  "anaconda-cloud": {},
  "kernelspec": {
   "display_name": "Python [conda root]",
   "language": "python",
   "name": "conda-root-py"
  },
  "language_info": {
   "codemirror_mode": {
    "name": "ipython",
    "version": 2
   },
   "file_extension": ".py",
   "mimetype": "text/x-python",
   "name": "python",
   "nbconvert_exporter": "python",
   "pygments_lexer": "ipython2",
   "version": "2.7.12"
  }
 },
 "nbformat": 4,
 "nbformat_minor": 0
}
