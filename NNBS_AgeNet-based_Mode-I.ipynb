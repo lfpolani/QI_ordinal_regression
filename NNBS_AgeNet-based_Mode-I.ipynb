{
 "cells": [
  {
   "cell_type": "code",
   "execution_count": 1,
   "metadata": {
    "collapsed": false
   },
   "outputs": [],
   "source": [
    "import pandas as pd\n",
    "import numpy as np\n",
    "import cv2\n",
    "import sys\n",
    "import caffe\n",
    "import pickle\n",
    "from caffe.proto import caffe_pb2\n",
    "import random"
   ]
  },
  {
   "cell_type": "code",
   "execution_count": 2,
   "metadata": {
    "collapsed": false
   },
   "outputs": [],
   "source": [
    "#Naive Noisy Binary Search\n",
    "def NNBS(S,e, epsilon, accuracies, P, longitud1):\n",
    "    global longitud\n",
    "    global P1\n",
    "    P1=P\n",
    "    longitud=longitud1\n",
    "    size=len(S)\n",
    "    thresh=0.548028\n",
    "    \n",
    "    ll=1\n",
    "    uu=size\n",
    "    while ((uu-ll)>0):\n",
    "        mm=int(np.ceil((ll+uu)/2.0))\n",
    "        \n",
    "        if S[mm-1]==16:\n",
    "                hp_wins=0\n",
    "        elif S[mm-1]==40:\n",
    "                hp_wins=1\n",
    "        else:\n",
    "            ind2=np.random.permutation(longitud[S[mm-1]])\n",
    "            ind2=ind2[0:accuracies[S[mm-1]]]\n",
    "            \n",
    "            img2=P1[S[mm-1]][ind2]\n",
    "            hp_wins=dataset_and_compare(img2, e, thresh)\n",
    "\n",
    "        if (0.5-epsilon)<=hp_wins and hp_wins<=0.5+epsilon:\n",
    "            x=mm-1\n",
    "            break\n",
    "        else:\n",
    "            if hp_wins<(0.5-epsilon):\n",
    "                if mm==1:\n",
    "                    x=0\n",
    "                    break\n",
    "                ll=np.ceil((ll+uu)/2.0)\n",
    "            else:\n",
    "                if (mm==size):\n",
    "                    x=size-1\n",
    "                    break\n",
    "                uu=np.ceil((ll+uu)/float(2))\n",
    "            if (uu-ll==1) & (mm==uu):\n",
    "                x=int(ll)-1\n",
    "                break\n",
    "    if (uu-ll)==0:\n",
    "        x=int(ll)-1\n",
    "    return S[int(x)]\n",
    "\n",
    "\n",
    "def dataset_and_compare(img2,ej, thresh):\n",
    "    \n",
    "\n",
    "    img2=img2.values\n",
    "    images=np.zeros((len(img2), 6, 224, 224))\n",
    "    dim=len(img2)\n",
    "    index=0\n",
    "    for ina in img2:\n",
    "        img_path_1='./Anchors/Images/'+ina+'.jpg'  \n",
    "        img1 = cv2.imread(img_path_1, cv2.IMREAD_COLOR)\n",
    "        if img1.shape!=(224,224,3):\n",
    "            img1 = cv2.resize(img1,(224,224), interpolation = cv2.INTER_CUBIC)        \n",
    "        if img1==None:\n",
    "            dim=dim-1\n",
    "            images = images[0:dim-1, :, :]\n",
    "            continue\n",
    "        \n",
    "        img=np.concatenate((img1, ej), axis=2)\n",
    "        img = img.transpose((2,0,1))\n",
    "        images[index,:,:,:]=img\n",
    "        index=index+1\n",
    "    out = net0.forward_all(pair_data = images )\n",
    "    bla=sum(out['prob'][:,1]>thresh)/float(len(out['prob']))\n",
    " \n",
    "\n",
    "    return bla"
   ]
  },
  {
   "cell_type": "code",
   "execution_count": 3,
   "metadata": {
    "collapsed": false
   },
   "outputs": [
    {
     "name": "stderr",
     "output_type": "stream",
     "text": [
      "/home/lpolania/enter/lib/python2.7/site-packages/ipykernel/__main__.py:60: FutureWarning: comparison to `None` will result in an elementwise object comparison in the future.\n"
     ]
    }
   ],
   "source": [
    "with open('./Anchors/table_anchors.pkl', 'rb') as f:\n",
    "    [df, longitud]=pickle.load(f)\n",
    "\n",
    "\n",
    "epsilon=0.03\n",
    "budget=50\n",
    "GPU_ID=0\n",
    "\n",
    "caffe_root = './caffe/'  \n",
    "sys.path.insert(0, caffe_root + 'python')\n",
    "caffe.set_mode_gpu()\n",
    "caffe.set_device(GPU_ID)\n",
    "model_def = './Deployment_prototxt_files/AgeNet-based_Mode_I.prototxt'\n",
    "model_weights0 = './Models/AgeNet-based_Mode_I.caffemodel'\n",
    "\n",
    "\n",
    "net0 = caffe.Net(model_def,      # defines the structure of the model\n",
    "                model_weights0,  # contains the trained weights\n",
    "                caffe.TEST)     \n",
    "\n",
    "\n",
    "roc_values=np.array([0.691794793548, 0.725495077349, 0.729365110244, 0.775528180484])\n",
    "roc_values=(1-roc_values)/sum(1-roc_values)\n",
    "\n",
    "accuracies={}\n",
    "accuracies[18.5]=roc_values[0]\n",
    "accuracies[25]=roc_values[1]\n",
    "accuracies[30]=roc_values[2]\n",
    "accuracies[35]=roc_values[3]\n",
    "for key in accuracies:    \n",
    "    accuracies[key] =  int(accuracies[key]*budget)\n",
    "S=[16, 18.5, 25, 30, 35, 40]\n",
    "\n",
    "\n",
    "df4_neutral = pd.DataFrame(columns=('Athlete', 'Ground truth (BMI)', 'Prediction'))\n",
    "Names=['LIM HYOJUN','DAVID GLEIRSCHER']\n",
    "BMI=[22.67, 26.87]\n",
    "\n",
    "for tra in range(2):\n",
    "            img_path_1='./Testing_images/'+str(tra)+'.jpg'\n",
    "            img1= cv2.imread(img_path_1, cv2.IMREAD_COLOR)\n",
    "            pred=NNBS(S,img1, epsilon, accuracies, df, longitud)\n",
    "            df4_neutral.loc[tra]=[Names[tra], BMI[tra], pred]\n",
    "\n",
    "df4_neutral.loc[(df4_neutral['Prediction'] ==16),'Prediction'] = 'Underweight (16-18.5)'\n",
    "df4_neutral.loc[(df4_neutral['Prediction'] ==18.5),'Prediction'] = 'Normal (18.5-25)'\n",
    "df4_neutral.loc[(df4_neutral['Prediction'] ==25),'Prediction'] = 'Overweight (25-30)'\n",
    "df4_neutral.loc[(df4_neutral['Prediction'] ==30),'Prediction'] = 'Moderately obese (30-35)'\n",
    "df4_neutral.loc[(df4_neutral['Prediction'] ==35),'Prediction'] = 'Severely obese (35-40)'"
   ]
  },
  {
   "cell_type": "code",
   "execution_count": 4,
   "metadata": {
    "collapsed": false
   },
   "outputs": [
    {
     "data": {
      "text/html": [
       "<div>\n",
       "<table border=\"1\" class=\"dataframe\">\n",
       "  <thead>\n",
       "    <tr style=\"text-align: right;\">\n",
       "      <th></th>\n",
       "      <th>Athlete</th>\n",
       "      <th>Ground truth (BMI)</th>\n",
       "      <th>Prediction</th>\n",
       "    </tr>\n",
       "  </thead>\n",
       "  <tbody>\n",
       "    <tr>\n",
       "      <th>0</th>\n",
       "      <td>LIM HYOJUN</td>\n",
       "      <td>22.67</td>\n",
       "      <td>Normal (18.5-25)</td>\n",
       "    </tr>\n",
       "    <tr>\n",
       "      <th>1</th>\n",
       "      <td>DAVID GLEIRSCHER</td>\n",
       "      <td>26.87</td>\n",
       "      <td>Overweight (25-30)</td>\n",
       "    </tr>\n",
       "  </tbody>\n",
       "</table>\n",
       "</div>"
      ],
      "text/plain": [
       "            Athlete  Ground truth (BMI)          Prediction\n",
       "0        LIM HYOJUN               22.67    Normal (18.5-25)\n",
       "1  DAVID GLEIRSCHER               26.87  Overweight (25-30)"
      ]
     },
     "execution_count": 4,
     "metadata": {},
     "output_type": "execute_result"
    }
   ],
   "source": [
    "#Results\n",
    "df4_neutral"
   ]
  }
 ],
 "metadata": {
  "anaconda-cloud": {},
  "kernelspec": {
   "display_name": "Python [conda root]",
   "language": "python",
   "name": "conda-root-py"
  },
  "language_info": {
   "codemirror_mode": {
    "name": "ipython",
    "version": 2
   },
   "file_extension": ".py",
   "mimetype": "text/x-python",
   "name": "python",
   "nbconvert_exporter": "python",
   "pygments_lexer": "ipython2",
   "version": "2.7.12"
  }
 },
 "nbformat": 4,
 "nbformat_minor": 0
}
