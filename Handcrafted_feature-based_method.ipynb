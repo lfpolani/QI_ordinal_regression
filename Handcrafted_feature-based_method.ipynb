{
 "cells": [
  {
   "cell_type": "code",
   "execution_count": 1,
   "metadata": {
    "collapsed": false
   },
   "outputs": [],
   "source": [
    "import pandas as pd\n",
    "import pickle\n",
    "import numpy as np\n",
    "from sklearn.preprocessing import StandardScaler\n",
    "from sklearn.svm import SVC\n",
    "import dlib\n",
    "import cv2\n",
    "\n",
    "detector = dlib.get_frontal_face_detector()\n",
    "predictor = dlib.shape_predictor('./Models/shape_predictor_68_face_landmarks.dat')\n",
    "\n",
    "with open('./Models/Handcrafted.pkl', \"rb\") as f:\n",
    "    [clf2, sc2]= pickle.load(f)\n"
   ]
  },
  {
   "cell_type": "code",
   "execution_count": 2,
   "metadata": {
    "collapsed": false
   },
   "outputs": [],
   "source": [
    "def calc_dist(x0,y0,x1,y1):\n",
    "    dist = (x0-x1)**2 + (y0-y1)**2\n",
    "    dist = dist ** 0.5\n",
    "    return dist\n",
    "\n",
    "def PolygonArea(corners):\n",
    "    n = len(corners) # of corners\n",
    "    area = 0.0\n",
    "    for i in range(n):\n",
    "        j = (i + 1) % n\n",
    "        area += corners[i][0] * corners[j][1]\n",
    "        area -= corners[j][0] * corners[i][1]\n",
    "    area = abs(area) / 2.0\n",
    "    return area\n",
    "\n",
    "def get_landmarks(im):\n",
    "    rects = detector(im, 1)\n",
    "    for (i, rect) in enumerate(rects):\n",
    "            landmarks = predictor(im, rect)\n",
    "            break\n",
    "    return np.matrix([[p.x, p.y] for p in landmarks.parts()])"
   ]
  },
  {
   "cell_type": "code",
   "execution_count": 3,
   "metadata": {
    "collapsed": false
   },
   "outputs": [
    {
     "name": "stderr",
     "output_type": "stream",
     "text": [
      "/home/lpolania/enter/lib/python2.7/site-packages/sklearn/utils/validation.py:429: DataConversionWarning: Data with input dtype object was converted to float64 by StandardScaler.\n",
      "  warnings.warn(msg, _DataConversionWarning)\n"
     ]
    }
   ],
   "source": [
    "df4_neutral = pd.DataFrame(columns=('Athlete', 'Ground truth (BMI)', 'Prediction'))\n",
    "Names=['LIM HYOJUN','DAVID GLEIRSCHER']\n",
    "BMI=[22.67, 26.87]\n",
    "\n",
    "for tra in range(2):\n",
    "            img_path_1='./Testing_images/'+str(tra)+'.jpg'\n",
    "            img1= cv2.imread(img_path_1, cv2.IMREAD_COLOR)\n",
    "            landmark_list = get_landmarks(img1)\n",
    "            \n",
    "            columns=[]\n",
    "            for each_land in range(0,68):\n",
    "                columns.append('landx'+str(each_land))\n",
    "                columns.append('landy'+str(each_land))\n",
    "            bmi_data = pd.DataFrame(columns=columns)\n",
    "            \n",
    "            land_count = 0\n",
    "            for each_land in landmark_list:\n",
    "                one_land=each_land.tolist()\n",
    "                bmi_data.loc[0, 'landx'+str(land_count)]=one_land[0][0]\n",
    "                bmi_data.loc[0, 'landy'+str(land_count)]=one_land[0][1]\n",
    "                land_count=land_count+1\n",
    "                \n",
    "            bmi_data['face_height3'] = calc_dist(bmi_data['landx27'],0,bmi_data['landx8'],bmi_data['landy8'])\n",
    "            bmi_data['face_height2'] = calc_dist(bmi_data['landx27'],bmi_data['landy27'],bmi_data['landx66'],bmi_data['landy66'])\n",
    "            bmi_data['face_width0'] = calc_dist(bmi_data['landx0'],bmi_data['landy0'],bmi_data['landx16'],bmi_data['landy16'])\n",
    "            bmi_data['face_width4'] = calc_dist(bmi_data['landx4'],bmi_data['landy4'],bmi_data['landx12'],bmi_data['landy12'])\n",
    "            bmi_data['eye_width1'] = calc_dist(bmi_data['landx36'],bmi_data['landy36'],bmi_data['landx45'],bmi_data['landy45'])\n",
    "            bmi_data['eye_width2'] = calc_dist(bmi_data['landx39'],bmi_data['landy39'],bmi_data['landx42'],bmi_data['landy42'])\n",
    "            bmi_data['face_height'] = calc_dist(bmi_data['landx27'],bmi_data['landy27'],bmi_data['landx8'],bmi_data['landy8'])\n",
    "\n",
    "            corners=[(bmi_data['landx0'],bmi_data['landy0']), (bmi_data['landx4'],bmi_data['landy4']), (bmi_data['landx8'],bmi_data['landy8']), (bmi_data['landx12'],bmi_data['landy12']), (bmi_data['landx16'],bmi_data['landy16'])]\n",
    "            seg_1=calc_dist(bmi_data['landx0'],bmi_data['landy0'],bmi_data['landx4'],bmi_data['landy4'])\n",
    "            seg_2=calc_dist(bmi_data['landx8'],bmi_data['landy8'],bmi_data['landx4'],bmi_data['landy4'])\n",
    "            seg_3=calc_dist(bmi_data['landx8'],bmi_data['landy8'],bmi_data['landx12'],bmi_data['landy12'])\n",
    "            seg_4=calc_dist(bmi_data['landx16'],bmi_data['landy16'],bmi_data['landx12'],bmi_data['landy12'])\n",
    "\n",
    "            mid_re_x=(bmi_data['landx43']+bmi_data['landx44'])/2.0\n",
    "            mid_re_y=(bmi_data['landy43']+bmi_data['landy44'])/2.0                                                                                            \n",
    "            mid_le_x=(bmi_data['landx37']+bmi_data['landx38'])/2.0\n",
    "            mid_le_y=(bmi_data['landy37']+bmi_data['landy38'])/2.0\n",
    "\n",
    "            d1=calc_dist(bmi_data['landx36'],bmi_data['landy36'],bmi_data['landx17'],bmi_data['landy17'])\n",
    "            d2=calc_dist(bmi_data['landx19'],bmi_data['landy19'],mid_le_x,mid_le_y)                                                                                               \n",
    "            d3=calc_dist(bmi_data['landx39'],bmi_data['landy39'],bmi_data['landx21'],bmi_data['landy21']) \n",
    "            d4=calc_dist(bmi_data['landx42'],bmi_data['landy42'],bmi_data['landx22'],bmi_data['landy22'])\n",
    "            d5=calc_dist(bmi_data['landx24'],bmi_data['landy24'],mid_re_x,mid_re_y)                                                                                               \n",
    "            d6=calc_dist(bmi_data['landx45'],bmi_data['landy45'],bmi_data['landx26'],bmi_data['landy26'])                                                                                              \n",
    "\n",
    "            bmi_data['CJWR']=bmi_data['face_width0']/bmi_data['face_width4']\n",
    "            bmi_data['WHR']=bmi_data['face_width4']/bmi_data['face_height2']                       \n",
    "            bmi_data['PAR']=(seg_1+seg_2+seg_3+seg_4)/PolygonArea(corners)\n",
    "            bmi_data['ES']=(bmi_data['eye_width1']-bmi_data['eye_width2'])/2.0 \n",
    "            bmi_data['LF_FH']=bmi_data['face_height']/bmi_data['face_height3']\n",
    "            bmi_data['FW_LFH']=bmi_data['face_width0']/bmi_data['face_height']\n",
    "            bmi_data['MEH']=(d1+d2+d3+d4+d5+d6)/6.0                                                                                            \n",
    "            columns2=['CJWR', 'WHR', 'PAR', 'ES', 'LF_FH', 'FW_LFH', 'MEH']   \n",
    "            \n",
    "            testing_inputs2=bmi_data[columns2].values\n",
    "            testing_inputs2=np.array(testing_inputs2)\n",
    "            testing_inputs2= sc2.transform(testing_inputs2)\n",
    "            pred = clf2.predict(testing_inputs2)\n",
    "            df4_neutral.loc[tra]=[Names[tra], BMI[tra], pred]\n",
    "            \n",
    "df4_neutral.loc[(df4_neutral['Prediction'] ==0),'Prediction'] = 'Underweight (16-18.5)'\n",
    "df4_neutral.loc[(df4_neutral['Prediction'] ==1),'Prediction'] = 'Normal (18.5-25)'\n",
    "df4_neutral.loc[(df4_neutral['Prediction'] ==2),'Prediction'] = 'Overweight (25-30)'\n",
    "df4_neutral.loc[(df4_neutral['Prediction'] ==3),'Prediction'] = 'Moderately obese (30-35)'\n",
    "df4_neutral.loc[(df4_neutral['Prediction'] ==4),'Prediction'] = 'Severely obese (35-40)'"
   ]
  },
  {
   "cell_type": "code",
   "execution_count": 4,
   "metadata": {
    "collapsed": false
   },
   "outputs": [
    {
     "data": {
      "text/html": [
       "<div>\n",
       "<table border=\"1\" class=\"dataframe\">\n",
       "  <thead>\n",
       "    <tr style=\"text-align: right;\">\n",
       "      <th></th>\n",
       "      <th>Athlete</th>\n",
       "      <th>Ground truth (BMI)</th>\n",
       "      <th>Prediction</th>\n",
       "    </tr>\n",
       "  </thead>\n",
       "  <tbody>\n",
       "    <tr>\n",
       "      <th>0</th>\n",
       "      <td>LIM HYOJUN</td>\n",
       "      <td>22.67</td>\n",
       "      <td>Normal (18.5-25)</td>\n",
       "    </tr>\n",
       "    <tr>\n",
       "      <th>1</th>\n",
       "      <td>DAVID GLEIRSCHER</td>\n",
       "      <td>26.87</td>\n",
       "      <td>Overweight (25-30)</td>\n",
       "    </tr>\n",
       "  </tbody>\n",
       "</table>\n",
       "</div>"
      ],
      "text/plain": [
       "            Athlete  Ground truth (BMI)          Prediction\n",
       "0        LIM HYOJUN               22.67    Normal (18.5-25)\n",
       "1  DAVID GLEIRSCHER               26.87  Overweight (25-30)"
      ]
     },
     "execution_count": 4,
     "metadata": {},
     "output_type": "execute_result"
    }
   ],
   "source": [
    "df4_neutral"
   ]
  }
 ],
 "metadata": {
  "anaconda-cloud": {},
  "kernelspec": {
   "display_name": "Python [conda root]",
   "language": "python",
   "name": "conda-root-py"
  },
  "language_info": {
   "codemirror_mode": {
    "name": "ipython",
    "version": 2
   },
   "file_extension": ".py",
   "mimetype": "text/x-python",
   "name": "python",
   "nbconvert_exporter": "python",
   "pygments_lexer": "ipython2",
   "version": "2.7.12"
  }
 },
 "nbformat": 4,
 "nbformat_minor": 0
}
